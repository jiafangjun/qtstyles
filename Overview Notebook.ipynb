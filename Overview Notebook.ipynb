{
 "cells": [
  {
   "cell_type": "markdown",
   "metadata": {},
   "source": [
    "# qtstyles\n",
    "## The StylePicker class\n",
    "First we start by importing qtstyles..."
   ]
  },
  {
   "cell_type": "code",
   "execution_count": 1,
   "metadata": {},
   "outputs": [],
   "source": [
    "import qtstyles"
   ]
  },
  {
   "cell_type": "markdown",
   "metadata": {},
   "source": [
    "Which contains a StylePicker class that we can use to list or pick an available style."
   ]
  },
  {
   "cell_type": "code",
   "execution_count": 2,
   "metadata": {},
   "outputs": [
    {
     "data": {
      "text/plain": [
       "<qtstyles.picker.StylePicker at 0x8297b00>"
      ]
     },
     "execution_count": 2,
     "metadata": {},
     "output_type": "execute_result"
    }
   ],
   "source": [
    "picker = qtstyles.StylePicker()\n",
    "picker"
   ]
  },
  {
   "cell_type": "markdown",
   "metadata": {},
   "source": [
    "From this instance we can get list of available styles using the 'available_styles' attribute."
   ]
  },
  {
   "cell_type": "code",
   "execution_count": 3,
   "metadata": {},
   "outputs": [
    {
     "data": {
      "text/plain": [
       "['qtdark',\n",
       " 'breeze-light',\n",
       " 'console',\n",
       " 'breeze-dark',\n",
       " 'amoled',\n",
       " 'dark-orange',\n",
       " 'ubuntu',\n",
       " 'aqua',\n",
       " 'coffee',\n",
       " 'light-blue',\n",
       " 'pagefold',\n",
       " 'default',\n",
       " 'material-dark',\n",
       " 'elegant-dark',\n",
       " 'dark-blue',\n",
       " 'light-orange',\n",
       " 'qdark',\n",
       " 'dark-green',\n",
       " 'material-blue',\n",
       " 'light-green']"
      ]
     },
     "execution_count": 3,
     "metadata": {},
     "output_type": "execute_result"
    }
   ],
   "source": [
    "from qtstyles import StylePicker\n",
    "\n",
    "StylePicker().available_styles"
   ]
  },
  {
   "cell_type": "markdown",
   "metadata": {},
   "source": [
    "We can get the current style (which is 'default' if you don't provide one in the constructor)."
   ]
  },
  {
   "cell_type": "code",
   "execution_count": 4,
   "metadata": {},
   "outputs": [
    {
     "data": {
      "text/plain": [
       "'default'"
      ]
     },
     "execution_count": 4,
     "metadata": {},
     "output_type": "execute_result"
    }
   ],
   "source": [
    "picker.style"
   ]
  },
  {
   "cell_type": "code",
   "execution_count": 5,
   "metadata": {},
   "outputs": [
    {
     "ename": "StyleDoesntExistError",
     "evalue": "The requested style does not exist!",
     "output_type": "error",
     "traceback": [
      "\u001b[1;31m---------------------------------------------------------------------------\u001b[0m",
      "\u001b[1;31mStyleDoesntExistError\u001b[0m                     Traceback (most recent call last)",
      "\u001b[1;32m<ipython-input-5-2320f07db9ab>\u001b[0m in \u001b[0;36m<module>\u001b[1;34m()\u001b[0m\n\u001b[1;32m----> 1\u001b[1;33m \u001b[0mpicker\u001b[0m\u001b[1;33m.\u001b[0m\u001b[0mstyle\u001b[0m \u001b[1;33m=\u001b[0m \u001b[1;34m\"not a style...\"\u001b[0m \u001b[1;31m# this will throw an error is there is no associated style sheet\u001b[0m\u001b[1;33m\u001b[0m\u001b[0m\n\u001b[0m",
      "\u001b[1;32mU:\\git\\qtstyles\\qtstyles\\picker.pyc\u001b[0m in \u001b[0;36mstyle\u001b[1;34m(self, style)\u001b[0m\n\u001b[0;32m     39\u001b[0m         \u001b[1;34m''' sets the current style which must be in the available_styles list '''\u001b[0m\u001b[1;33m\u001b[0m\u001b[0m\n\u001b[0;32m     40\u001b[0m         \u001b[1;32mif\u001b[0m \u001b[0mstyle\u001b[0m \u001b[1;32mnot\u001b[0m \u001b[1;32min\u001b[0m \u001b[0mself\u001b[0m\u001b[1;33m.\u001b[0m\u001b[0mavailable_styles\u001b[0m\u001b[1;33m:\u001b[0m\u001b[1;33m\u001b[0m\u001b[0m\n\u001b[1;32m---> 41\u001b[1;33m             \u001b[1;32mraise\u001b[0m \u001b[0merrors\u001b[0m\u001b[1;33m.\u001b[0m\u001b[0mStyleDoesntExistError\u001b[0m\u001b[1;33m\u001b[0m\u001b[0m\n\u001b[0m\u001b[0;32m     42\u001b[0m         \u001b[0mself\u001b[0m\u001b[1;33m.\u001b[0m\u001b[0m_style\u001b[0m \u001b[1;33m=\u001b[0m \u001b[0mstyle\u001b[0m\u001b[1;33m\u001b[0m\u001b[0m\n\u001b[0;32m     43\u001b[0m \u001b[1;33m\u001b[0m\u001b[0m\n",
      "\u001b[1;31mStyleDoesntExistError\u001b[0m: The requested style does not exist!"
     ]
    }
   ],
   "source": [
    "picker.style = \"not a style...\" # this will throw an error is there is no associated style sheet"
   ]
  },
  {
   "cell_type": "code",
   "execution_count": 6,
   "metadata": {},
   "outputs": [],
   "source": [
    "picker.style = \"qdark\" # we can set the style for this instance to a valid style"
   ]
  },
  {
   "cell_type": "markdown",
   "metadata": {},
   "source": [
    "We can then collect the style sheet for this chosen style"
   ]
  },
  {
   "cell_type": "code",
   "execution_count": 7,
   "metadata": {},
   "outputs": [
    {
     "name": "stdout",
     "output_type": "stream",
     "text": [
      "(<type 'str'>, 26876)\n"
     ]
    }
   ],
   "source": [
    "style_sheet = picker.get_sheet()\n",
    "print(type(style_sheet), len(style_sheet)) # the style sheet is a string with x number of characters"
   ]
  },
  {
   "cell_type": "markdown",
   "metadata": {},
   "source": [
    "We can set our app style with the StylePicker class by running:"
   ]
  },
  {
   "cell_type": "code",
   "execution_count": null,
   "metadata": {},
   "outputs": [],
   "source": [
    "from qtpy import QtWidgets\n",
    "from qtstyles import StylePicker\n",
    "\n",
    "app = QtWidgets.QApplication([])\n",
    "win = QtWidgets.QMainWindow()\n",
    "app.setStyleSheet(StylePicker(\"qdark\").get_sheet()) # <-- changing the style here\n",
    "win.show()\n",
    "app.exec_()"
   ]
  },
  {
   "cell_type": "markdown",
   "metadata": {},
   "source": [
    "## The style picker widget\n",
    "In order to keep things simple there is a StylePickerWidget class that inherits from QtWidgets.QComboBox. When the style value is changed the app instance will immediately have its style sheet changed to the chosen style."
   ]
  },
  {
   "cell_type": "code",
   "execution_count": 9,
   "metadata": {},
   "outputs": [
    {
     "data": {
      "text/plain": [
       "True"
      ]
     },
     "execution_count": 9,
     "metadata": {},
     "output_type": "execute_result"
    }
   ],
   "source": [
    "from qtpy import QtWidgets\n",
    "from qtstyles import StylePickerWidget\n",
    "\n",
    "# first we need the app instance in order to create any widgets\n",
    "app = QtWidgets.QApplication.instance()\n",
    "if not app:\n",
    "    app = QtWidgets.QApplication([])\n",
    "\n",
    "isinstance(StylePickerWidget(), QtWidgets.QComboBox)"
   ]
  },
  {
   "cell_type": "markdown",
   "metadata": {},
   "source": [
    "A minimal example:"
   ]
  },
  {
   "cell_type": "code",
   "execution_count": null,
   "metadata": {},
   "outputs": [],
   "source": [
    "from qtpy import QtWidgets\n",
    "from qtstyles import StylePickerWidget\n",
    "\n",
    "app = QtWidgets.QApplication([])\n",
    "win = QtWidgets.QMainWindow()\n",
    "picker_widget = StylePickerWidget()\n",
    "win.setCentralWidget(picker_widget)\n",
    "win.show()\n",
    "app.exec_()"
   ]
  },
  {
   "cell_type": "markdown",
   "metadata": {},
   "source": [
    "In the example below we place an instance of the StylePickerWidget class in the bottom left of the screen."
   ]
  },
  {
   "cell_type": "markdown",
   "metadata": {},
   "source": [
    "## A basic qtstyles demo"
   ]
  },
  {
   "cell_type": "markdown",
   "metadata": {},
   "source": [
    "There is a basic login box demo available for where you can change your required style."
   ]
  },
  {
   "cell_type": "code",
   "execution_count": 2,
   "metadata": {},
   "outputs": [],
   "source": [
    "import qtstyles\n",
    "\n",
    "qtstyles.run_demo()"
   ]
  },
  {
   "cell_type": "markdown",
   "metadata": {},
   "source": [
    "***"
   ]
  }
 ],
 "metadata": {
  "kernelspec": {
   "display_name": "py36",
   "language": "python",
   "name": "py36"
  },
  "language_info": {
   "codemirror_mode": {
    "name": "ipython",
    "version": 3
   },
   "file_extension": ".py",
   "mimetype": "text/x-python",
   "name": "python",
   "nbconvert_exporter": "python",
   "pygments_lexer": "ipython3",
   "version": "3.6.6"
  }
 },
 "nbformat": 4,
 "nbformat_minor": 2
}
